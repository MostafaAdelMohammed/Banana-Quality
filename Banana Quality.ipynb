{
 "cells": [
  {
   "cell_type": "markdown",
   "id": "1129dac4",
   "metadata": {},
   "source": [
    "# 1- Data Exploration"
   ]
  },
  {
   "cell_type": "code",
   "execution_count": 1,
   "id": "d1a06eb2",
   "metadata": {},
   "outputs": [],
   "source": [
    "import pandas as pd\n",
    "import numpy as np\n",
    "import matplotlib.pyplot as plt\n",
    "import seaborn as sns\n",
    "import missingno as msno\n",
    "import re\n",
    "import plotly.express as px"
   ]
  },
  {
   "cell_type": "code",
   "execution_count": 2,
   "id": "635a94fd",
   "metadata": {},
   "outputs": [],
   "source": [
    "df=pd.read_csv('banana_quality.csv')"
   ]
  },
  {
   "cell_type": "code",
   "execution_count": 3,
   "id": "6696a25a",
   "metadata": {},
   "outputs": [
    {
     "data": {
      "text/html": [
       "<div>\n",
       "<style scoped>\n",
       "    .dataframe tbody tr th:only-of-type {\n",
       "        vertical-align: middle;\n",
       "    }\n",
       "\n",
       "    .dataframe tbody tr th {\n",
       "        vertical-align: top;\n",
       "    }\n",
       "\n",
       "    .dataframe thead th {\n",
       "        text-align: right;\n",
       "    }\n",
       "</style>\n",
       "<table border=\"1\" class=\"dataframe\">\n",
       "  <thead>\n",
       "    <tr style=\"text-align: right;\">\n",
       "      <th></th>\n",
       "      <th>Size</th>\n",
       "      <th>Weight</th>\n",
       "      <th>Sweetness</th>\n",
       "      <th>Softness</th>\n",
       "      <th>HarvestTime</th>\n",
       "      <th>Ripeness</th>\n",
       "      <th>Acidity</th>\n",
       "      <th>Quality</th>\n",
       "    </tr>\n",
       "  </thead>\n",
       "  <tbody>\n",
       "    <tr>\n",
       "      <th>0</th>\n",
       "      <td>-1.924968</td>\n",
       "      <td>0.468078</td>\n",
       "      <td>3.077832</td>\n",
       "      <td>-1.472177</td>\n",
       "      <td>0.294799</td>\n",
       "      <td>2.435570</td>\n",
       "      <td>0.271290</td>\n",
       "      <td>Good</td>\n",
       "    </tr>\n",
       "    <tr>\n",
       "      <th>1</th>\n",
       "      <td>-2.409751</td>\n",
       "      <td>0.486870</td>\n",
       "      <td>0.346921</td>\n",
       "      <td>-2.495099</td>\n",
       "      <td>-0.892213</td>\n",
       "      <td>2.067549</td>\n",
       "      <td>0.307325</td>\n",
       "      <td>Good</td>\n",
       "    </tr>\n",
       "    <tr>\n",
       "      <th>2</th>\n",
       "      <td>-0.357607</td>\n",
       "      <td>1.483176</td>\n",
       "      <td>1.568452</td>\n",
       "      <td>-2.645145</td>\n",
       "      <td>-0.647267</td>\n",
       "      <td>3.090643</td>\n",
       "      <td>1.427322</td>\n",
       "      <td>Good</td>\n",
       "    </tr>\n",
       "    <tr>\n",
       "      <th>3</th>\n",
       "      <td>-0.868524</td>\n",
       "      <td>1.566201</td>\n",
       "      <td>1.889605</td>\n",
       "      <td>-1.273761</td>\n",
       "      <td>-1.006278</td>\n",
       "      <td>1.873001</td>\n",
       "      <td>0.477862</td>\n",
       "      <td>Good</td>\n",
       "    </tr>\n",
       "    <tr>\n",
       "      <th>4</th>\n",
       "      <td>0.651825</td>\n",
       "      <td>1.319199</td>\n",
       "      <td>-0.022459</td>\n",
       "      <td>-1.209709</td>\n",
       "      <td>-1.430692</td>\n",
       "      <td>1.078345</td>\n",
       "      <td>2.812442</td>\n",
       "      <td>Good</td>\n",
       "    </tr>\n",
       "    <tr>\n",
       "      <th>...</th>\n",
       "      <td>...</td>\n",
       "      <td>...</td>\n",
       "      <td>...</td>\n",
       "      <td>...</td>\n",
       "      <td>...</td>\n",
       "      <td>...</td>\n",
       "      <td>...</td>\n",
       "      <td>...</td>\n",
       "    </tr>\n",
       "    <tr>\n",
       "      <th>7995</th>\n",
       "      <td>-6.414403</td>\n",
       "      <td>0.723565</td>\n",
       "      <td>1.134953</td>\n",
       "      <td>2.952763</td>\n",
       "      <td>0.297928</td>\n",
       "      <td>-0.156946</td>\n",
       "      <td>2.398091</td>\n",
       "      <td>Bad</td>\n",
       "    </tr>\n",
       "    <tr>\n",
       "      <th>7996</th>\n",
       "      <td>0.851143</td>\n",
       "      <td>-2.217875</td>\n",
       "      <td>-2.812175</td>\n",
       "      <td>0.489249</td>\n",
       "      <td>-1.323410</td>\n",
       "      <td>-2.316883</td>\n",
       "      <td>2.113136</td>\n",
       "      <td>Bad</td>\n",
       "    </tr>\n",
       "    <tr>\n",
       "      <th>7997</th>\n",
       "      <td>1.422722</td>\n",
       "      <td>-1.907665</td>\n",
       "      <td>-2.532364</td>\n",
       "      <td>0.964976</td>\n",
       "      <td>-0.562375</td>\n",
       "      <td>-1.834765</td>\n",
       "      <td>0.697361</td>\n",
       "      <td>Bad</td>\n",
       "    </tr>\n",
       "    <tr>\n",
       "      <th>7998</th>\n",
       "      <td>-2.131904</td>\n",
       "      <td>-2.742600</td>\n",
       "      <td>-1.008029</td>\n",
       "      <td>2.126946</td>\n",
       "      <td>-0.802632</td>\n",
       "      <td>-3.580266</td>\n",
       "      <td>0.423569</td>\n",
       "      <td>Bad</td>\n",
       "    </tr>\n",
       "    <tr>\n",
       "      <th>7999</th>\n",
       "      <td>-2.660879</td>\n",
       "      <td>-2.044666</td>\n",
       "      <td>0.159026</td>\n",
       "      <td>1.499706</td>\n",
       "      <td>-1.581856</td>\n",
       "      <td>-1.605859</td>\n",
       "      <td>1.435644</td>\n",
       "      <td>Bad</td>\n",
       "    </tr>\n",
       "  </tbody>\n",
       "</table>\n",
       "<p>8000 rows × 8 columns</p>\n",
       "</div>"
      ],
      "text/plain": [
       "          Size    Weight  Sweetness  Softness  HarvestTime  Ripeness  \\\n",
       "0    -1.924968  0.468078   3.077832 -1.472177     0.294799  2.435570   \n",
       "1    -2.409751  0.486870   0.346921 -2.495099    -0.892213  2.067549   \n",
       "2    -0.357607  1.483176   1.568452 -2.645145    -0.647267  3.090643   \n",
       "3    -0.868524  1.566201   1.889605 -1.273761    -1.006278  1.873001   \n",
       "4     0.651825  1.319199  -0.022459 -1.209709    -1.430692  1.078345   \n",
       "...        ...       ...        ...       ...          ...       ...   \n",
       "7995 -6.414403  0.723565   1.134953  2.952763     0.297928 -0.156946   \n",
       "7996  0.851143 -2.217875  -2.812175  0.489249    -1.323410 -2.316883   \n",
       "7997  1.422722 -1.907665  -2.532364  0.964976    -0.562375 -1.834765   \n",
       "7998 -2.131904 -2.742600  -1.008029  2.126946    -0.802632 -3.580266   \n",
       "7999 -2.660879 -2.044666   0.159026  1.499706    -1.581856 -1.605859   \n",
       "\n",
       "       Acidity Quality  \n",
       "0     0.271290    Good  \n",
       "1     0.307325    Good  \n",
       "2     1.427322    Good  \n",
       "3     0.477862    Good  \n",
       "4     2.812442    Good  \n",
       "...        ...     ...  \n",
       "7995  2.398091     Bad  \n",
       "7996  2.113136     Bad  \n",
       "7997  0.697361     Bad  \n",
       "7998  0.423569     Bad  \n",
       "7999  1.435644     Bad  \n",
       "\n",
       "[8000 rows x 8 columns]"
      ]
     },
     "execution_count": 3,
     "metadata": {},
     "output_type": "execute_result"
    }
   ],
   "source": [
    "df"
   ]
  },
  {
   "cell_type": "code",
   "execution_count": 4,
   "id": "206114a2",
   "metadata": {},
   "outputs": [
    {
     "data": {
      "text/plain": [
       "(8000, 8)"
      ]
     },
     "execution_count": 4,
     "metadata": {},
     "output_type": "execute_result"
    }
   ],
   "source": [
    "df.shape"
   ]
  },
  {
   "cell_type": "code",
   "execution_count": 5,
   "id": "f8331749",
   "metadata": {},
   "outputs": [
    {
     "data": {
      "text/html": [
       "<div>\n",
       "<style scoped>\n",
       "    .dataframe tbody tr th:only-of-type {\n",
       "        vertical-align: middle;\n",
       "    }\n",
       "\n",
       "    .dataframe tbody tr th {\n",
       "        vertical-align: top;\n",
       "    }\n",
       "\n",
       "    .dataframe thead th {\n",
       "        text-align: right;\n",
       "    }\n",
       "</style>\n",
       "<table border=\"1\" class=\"dataframe\">\n",
       "  <thead>\n",
       "    <tr style=\"text-align: right;\">\n",
       "      <th></th>\n",
       "      <th>Size</th>\n",
       "      <th>Weight</th>\n",
       "      <th>Sweetness</th>\n",
       "      <th>Softness</th>\n",
       "      <th>HarvestTime</th>\n",
       "      <th>Ripeness</th>\n",
       "      <th>Acidity</th>\n",
       "    </tr>\n",
       "  </thead>\n",
       "  <tbody>\n",
       "    <tr>\n",
       "      <th>count</th>\n",
       "      <td>8000.000000</td>\n",
       "      <td>8000.000000</td>\n",
       "      <td>8000.000000</td>\n",
       "      <td>8000.000000</td>\n",
       "      <td>8000.000000</td>\n",
       "      <td>8000.000000</td>\n",
       "      <td>8000.000000</td>\n",
       "    </tr>\n",
       "    <tr>\n",
       "      <th>mean</th>\n",
       "      <td>-0.747802</td>\n",
       "      <td>-0.761019</td>\n",
       "      <td>-0.770224</td>\n",
       "      <td>-0.014441</td>\n",
       "      <td>-0.751288</td>\n",
       "      <td>0.781098</td>\n",
       "      <td>0.008725</td>\n",
       "    </tr>\n",
       "    <tr>\n",
       "      <th>std</th>\n",
       "      <td>2.136023</td>\n",
       "      <td>2.015934</td>\n",
       "      <td>1.948455</td>\n",
       "      <td>2.065216</td>\n",
       "      <td>1.996661</td>\n",
       "      <td>2.114289</td>\n",
       "      <td>2.293467</td>\n",
       "    </tr>\n",
       "    <tr>\n",
       "      <th>min</th>\n",
       "      <td>-7.998074</td>\n",
       "      <td>-8.283002</td>\n",
       "      <td>-6.434022</td>\n",
       "      <td>-6.959320</td>\n",
       "      <td>-7.570008</td>\n",
       "      <td>-7.423155</td>\n",
       "      <td>-8.226977</td>\n",
       "    </tr>\n",
       "    <tr>\n",
       "      <th>25%</th>\n",
       "      <td>-2.277651</td>\n",
       "      <td>-2.223574</td>\n",
       "      <td>-2.107329</td>\n",
       "      <td>-1.590458</td>\n",
       "      <td>-2.120659</td>\n",
       "      <td>-0.574226</td>\n",
       "      <td>-1.629450</td>\n",
       "    </tr>\n",
       "    <tr>\n",
       "      <th>50%</th>\n",
       "      <td>-0.897514</td>\n",
       "      <td>-0.868659</td>\n",
       "      <td>-1.020673</td>\n",
       "      <td>0.202644</td>\n",
       "      <td>-0.934192</td>\n",
       "      <td>0.964952</td>\n",
       "      <td>0.098735</td>\n",
       "    </tr>\n",
       "    <tr>\n",
       "      <th>75%</th>\n",
       "      <td>0.654216</td>\n",
       "      <td>0.775491</td>\n",
       "      <td>0.311048</td>\n",
       "      <td>1.547120</td>\n",
       "      <td>0.507326</td>\n",
       "      <td>2.261650</td>\n",
       "      <td>1.682063</td>\n",
       "    </tr>\n",
       "    <tr>\n",
       "      <th>max</th>\n",
       "      <td>7.970800</td>\n",
       "      <td>5.679692</td>\n",
       "      <td>7.539374</td>\n",
       "      <td>8.241555</td>\n",
       "      <td>6.293280</td>\n",
       "      <td>7.249034</td>\n",
       "      <td>7.411633</td>\n",
       "    </tr>\n",
       "  </tbody>\n",
       "</table>\n",
       "</div>"
      ],
      "text/plain": [
       "              Size       Weight    Sweetness     Softness  HarvestTime  \\\n",
       "count  8000.000000  8000.000000  8000.000000  8000.000000  8000.000000   \n",
       "mean     -0.747802    -0.761019    -0.770224    -0.014441    -0.751288   \n",
       "std       2.136023     2.015934     1.948455     2.065216     1.996661   \n",
       "min      -7.998074    -8.283002    -6.434022    -6.959320    -7.570008   \n",
       "25%      -2.277651    -2.223574    -2.107329    -1.590458    -2.120659   \n",
       "50%      -0.897514    -0.868659    -1.020673     0.202644    -0.934192   \n",
       "75%       0.654216     0.775491     0.311048     1.547120     0.507326   \n",
       "max       7.970800     5.679692     7.539374     8.241555     6.293280   \n",
       "\n",
       "          Ripeness      Acidity  \n",
       "count  8000.000000  8000.000000  \n",
       "mean      0.781098     0.008725  \n",
       "std       2.114289     2.293467  \n",
       "min      -7.423155    -8.226977  \n",
       "25%      -0.574226    -1.629450  \n",
       "50%       0.964952     0.098735  \n",
       "75%       2.261650     1.682063  \n",
       "max       7.249034     7.411633  "
      ]
     },
     "execution_count": 5,
     "metadata": {},
     "output_type": "execute_result"
    }
   ],
   "source": [
    "df.describe()"
   ]
  },
  {
   "cell_type": "markdown",
   "id": "d61d1add",
   "metadata": {},
   "source": [
    "# A - Types Of Columns"
   ]
  },
  {
   "cell_type": "code",
   "execution_count": 6,
   "id": "0133c813",
   "metadata": {},
   "outputs": [
    {
     "name": "stdout",
     "output_type": "stream",
     "text": [
      "<class 'pandas.core.frame.DataFrame'>\n",
      "RangeIndex: 8000 entries, 0 to 7999\n",
      "Data columns (total 8 columns):\n",
      " #   Column       Non-Null Count  Dtype  \n",
      "---  ------       --------------  -----  \n",
      " 0   Size         8000 non-null   float64\n",
      " 1   Weight       8000 non-null   float64\n",
      " 2   Sweetness    8000 non-null   float64\n",
      " 3   Softness     8000 non-null   float64\n",
      " 4   HarvestTime  8000 non-null   float64\n",
      " 5   Ripeness     8000 non-null   float64\n",
      " 6   Acidity      8000 non-null   float64\n",
      " 7   Quality      8000 non-null   object \n",
      "dtypes: float64(7), object(1)\n",
      "memory usage: 500.1+ KB\n"
     ]
    }
   ],
   "source": [
    "df.info()"
   ]
  },
  {
   "cell_type": "markdown",
   "id": "e3272b93",
   "metadata": {},
   "source": [
    "# B - Duplicates"
   ]
  },
  {
   "cell_type": "code",
   "execution_count": 7,
   "id": "3307252f",
   "metadata": {},
   "outputs": [
    {
     "data": {
      "text/html": [
       "<div>\n",
       "<style scoped>\n",
       "    .dataframe tbody tr th:only-of-type {\n",
       "        vertical-align: middle;\n",
       "    }\n",
       "\n",
       "    .dataframe tbody tr th {\n",
       "        vertical-align: top;\n",
       "    }\n",
       "\n",
       "    .dataframe thead th {\n",
       "        text-align: right;\n",
       "    }\n",
       "</style>\n",
       "<table border=\"1\" class=\"dataframe\">\n",
       "  <thead>\n",
       "    <tr style=\"text-align: right;\">\n",
       "      <th></th>\n",
       "      <th>Size</th>\n",
       "      <th>Weight</th>\n",
       "      <th>Sweetness</th>\n",
       "      <th>Softness</th>\n",
       "      <th>HarvestTime</th>\n",
       "      <th>Ripeness</th>\n",
       "      <th>Acidity</th>\n",
       "      <th>Quality</th>\n",
       "    </tr>\n",
       "  </thead>\n",
       "  <tbody>\n",
       "  </tbody>\n",
       "</table>\n",
       "</div>"
      ],
      "text/plain": [
       "Empty DataFrame\n",
       "Columns: [Size, Weight, Sweetness, Softness, HarvestTime, Ripeness, Acidity, Quality]\n",
       "Index: []"
      ]
     },
     "execution_count": 7,
     "metadata": {},
     "output_type": "execute_result"
    }
   ],
   "source": [
    "df[df.duplicated() == True]"
   ]
  },
  {
   "cell_type": "code",
   "execution_count": 8,
   "id": "b3a2981f",
   "metadata": {},
   "outputs": [],
   "source": [
    "# no duplicated columns"
   ]
  },
  {
   "cell_type": "markdown",
   "id": "519bdb17",
   "metadata": {},
   "source": [
    "# C - Nulls"
   ]
  },
  {
   "cell_type": "code",
   "execution_count": 9,
   "id": "21587fc9",
   "metadata": {},
   "outputs": [
    {
     "data": {
      "text/plain": [
       "Size           0\n",
       "Weight         0\n",
       "Sweetness      0\n",
       "Softness       0\n",
       "HarvestTime    0\n",
       "Ripeness       0\n",
       "Acidity        0\n",
       "Quality        0\n",
       "dtype: int64"
      ]
     },
     "execution_count": 9,
     "metadata": {},
     "output_type": "execute_result"
    }
   ],
   "source": [
    "df.isnull().sum()"
   ]
  },
  {
   "cell_type": "code",
   "execution_count": 10,
   "id": "79002a6e",
   "metadata": {},
   "outputs": [],
   "source": [
    "# no nulls"
   ]
  },
  {
   "cell_type": "markdown",
   "id": "acf67925",
   "metadata": {},
   "source": [
    "# D- Outlires"
   ]
  },
  {
   "cell_type": "code",
   "execution_count": 11,
   "id": "27e41b32",
   "metadata": {},
   "outputs": [
    {
     "data": {
      "text/plain": [
       "Index(['Size', 'Weight', 'Sweetness', 'Softness', 'HarvestTime', 'Ripeness',\n",
       "       'Acidity'],\n",
       "      dtype='object')"
      ]
     },
     "execution_count": 11,
     "metadata": {},
     "output_type": "execute_result"
    }
   ],
   "source": [
    "df.select_dtypes(exclude='object').columns # all numeric columns no object columns"
   ]
  },
  {
   "cell_type": "code",
   "execution_count": 12,
   "id": "749d47e6",
   "metadata": {},
   "outputs": [
    {
     "data": {
      "text/plain": [
       "<AxesSubplot:>"
      ]
     },
     "execution_count": 12,
     "metadata": {},
     "output_type": "execute_result"
    },
    {
     "data": {
      "image/png": "[encoded data removed]",
      "text/plain": [
       "<Figure size 1080x720 with 1 Axes>"
      ]
     },
     "metadata": {
      "needs_background": "light"
     },
     "output_type": "display_data"
    }
   ],
   "source": [
    "plt.figure(figsize=(15,10))\n",
    "sns.boxplot(data=df)"
   ]
  },
  {
   "cell_type": "code",
   "execution_count": 13,
   "id": "cb8cca91",
   "metadata": {},
   "outputs": [],
   "source": [
    "# all columns have outliers"
   ]
  },
  {
   "cell_type": "code",
   "execution_count": 14,
   "id": "cad400a1",
   "metadata": {},
   "outputs": [
    {
     "name": "stdout",
     "output_type": "stream",
     "text": [
      "1- Size column has 36 outliers\n",
      "2- Weight column has 3 outliers\n",
      "3- Sweetness column has 178 outliers\n",
      "4- Softness column has 9 outliers\n",
      "5- HarvestTime column has 58 outliers\n",
      "6- Ripeness column has 58 outliers\n",
      "7- Acidity column has 17 outliers\n"
     ]
    }
   ],
   "source": [
    " outliers= []\n",
    "    \n",
    "    \n",
    "  \n",
    "count_2=0 \n",
    "count_3=0\n",
    "count_4=0\n",
    "     \n",
    "for j in df.select_dtypes(exclude='object').columns:\n",
    "    q1 = np.percentile(df[j], 25)\n",
    "    q3 = np.percentile(df[j], 75)    \n",
    "    IQR = q3-q1\n",
    "    lwr_bound = q1-(1.5*IQR)\n",
    "    upr_bound = q3+(1.5*IQR)\n",
    "    for m in df[j]:\n",
    "        \n",
    "          if ((m<lwr_bound)|(m>upr_bound)):\n",
    "                outliers.append(m)\n",
    "    if outliers== [] :\n",
    "                       count_2+=1 \n",
    "                       print( f\"{count_2}- {j} column has {len(outliers)} outliers\")\n",
    "                       count_3+=1\n",
    "                       \n",
    "        \n",
    "        \n",
    "    else:\n",
    "        \n",
    "         count_2+=1                       \n",
    "           \n",
    "         print(f\"{count_2}- {j} column has {len(outliers)} outliers\")\n",
    "         outliers.clear()  \n",
    "         count_4+=1\n",
    "                             \n",
    "            \n",
    "         \n",
    " \n",
    "    \n",
    "        \n",
    "                    \n",
    "    "
   ]
  },
  {
   "cell_type": "code",
   "execution_count": 15,
   "id": "81ba25cb",
   "metadata": {},
   "outputs": [
    {
     "data": {
      "text/plain": [
       "0"
      ]
     },
     "execution_count": 15,
     "metadata": {},
     "output_type": "execute_result"
    }
   ],
   "source": [
    "count_3   # columns havent outliers"
   ]
  },
  {
   "cell_type": "code",
   "execution_count": 16,
   "id": "874a6db6",
   "metadata": {},
   "outputs": [
    {
     "data": {
      "text/plain": [
       "7"
      ]
     },
     "execution_count": 16,
     "metadata": {},
     "output_type": "execute_result"
    }
   ],
   "source": [
    "count_4    # columns have outliers"
   ]
  },
  {
   "cell_type": "markdown",
   "id": "15ecb058",
   "metadata": {},
   "source": []
  },
  {
   "cell_type": "markdown",
   "id": "ab8a3456",
   "metadata": {},
   "source": [
    "# E - Corrolation"
   ]
  },
  {
   "cell_type": "code",
   "execution_count": 17,
   "id": "c8f61944",
   "metadata": {},
   "outputs": [
    {
     "data": {
      "text/html": [
       "<div>\n",
       "<style scoped>\n",
       "    .dataframe tbody tr th:only-of-type {\n",
       "        vertical-align: middle;\n",
       "    }\n",
       "\n",
       "    .dataframe tbody tr th {\n",
       "        vertical-align: top;\n",
       "    }\n",
       "\n",
       "    .dataframe thead th {\n",
       "        text-align: right;\n",
       "    }\n",
       "</style>\n",
       "<table border=\"1\" class=\"dataframe\">\n",
       "  <thead>\n",
       "    <tr style=\"text-align: right;\">\n",
       "      <th></th>\n",
       "      <th>Size</th>\n",
       "      <th>Weight</th>\n",
       "      <th>Sweetness</th>\n",
       "      <th>Softness</th>\n",
       "      <th>HarvestTime</th>\n",
       "      <th>Ripeness</th>\n",
       "      <th>Acidity</th>\n",
       "    </tr>\n",
       "  </thead>\n",
       "  <tbody>\n",
       "    <tr>\n",
       "      <th>Size</th>\n",
       "      <td>1.000000</td>\n",
       "      <td>-0.181933</td>\n",
       "      <td>-0.258027</td>\n",
       "      <td>0.164526</td>\n",
       "      <td>0.582014</td>\n",
       "      <td>0.042587</td>\n",
       "      <td>-0.140673</td>\n",
       "    </tr>\n",
       "    <tr>\n",
       "      <th>Weight</th>\n",
       "      <td>-0.181933</td>\n",
       "      <td>1.000000</td>\n",
       "      <td>0.422683</td>\n",
       "      <td>-0.189908</td>\n",
       "      <td>-0.079465</td>\n",
       "      <td>-0.035276</td>\n",
       "      <td>0.443879</td>\n",
       "    </tr>\n",
       "    <tr>\n",
       "      <th>Sweetness</th>\n",
       "      <td>-0.258027</td>\n",
       "      <td>0.422683</td>\n",
       "      <td>1.000000</td>\n",
       "      <td>-0.095338</td>\n",
       "      <td>-0.201657</td>\n",
       "      <td>0.180095</td>\n",
       "      <td>0.187059</td>\n",
       "    </tr>\n",
       "    <tr>\n",
       "      <th>Softness</th>\n",
       "      <td>0.164526</td>\n",
       "      <td>-0.189908</td>\n",
       "      <td>-0.095338</td>\n",
       "      <td>1.000000</td>\n",
       "      <td>0.194734</td>\n",
       "      <td>-0.253804</td>\n",
       "      <td>-0.146014</td>\n",
       "    </tr>\n",
       "    <tr>\n",
       "      <th>HarvestTime</th>\n",
       "      <td>0.582014</td>\n",
       "      <td>-0.079465</td>\n",
       "      <td>-0.201657</td>\n",
       "      <td>0.194734</td>\n",
       "      <td>1.000000</td>\n",
       "      <td>0.107127</td>\n",
       "      <td>-0.090903</td>\n",
       "    </tr>\n",
       "    <tr>\n",
       "      <th>Ripeness</th>\n",
       "      <td>0.042587</td>\n",
       "      <td>-0.035276</td>\n",
       "      <td>0.180095</td>\n",
       "      <td>-0.253804</td>\n",
       "      <td>0.107127</td>\n",
       "      <td>1.000000</td>\n",
       "      <td>-0.351531</td>\n",
       "    </tr>\n",
       "    <tr>\n",
       "      <th>Acidity</th>\n",
       "      <td>-0.140673</td>\n",
       "      <td>0.443879</td>\n",
       "      <td>0.187059</td>\n",
       "      <td>-0.146014</td>\n",
       "      <td>-0.090903</td>\n",
       "      <td>-0.351531</td>\n",
       "      <td>1.000000</td>\n",
       "    </tr>\n",
       "  </tbody>\n",
       "</table>\n",
       "</div>"
      ],
      "text/plain": [
       "                 Size    Weight  Sweetness  Softness  HarvestTime  Ripeness  \\\n",
       "Size         1.000000 -0.181933  -0.258027  0.164526     0.582014  0.042587   \n",
       "Weight      -0.181933  1.000000   0.422683 -0.189908    -0.079465 -0.035276   \n",
       "Sweetness   -0.258027  0.422683   1.000000 -0.095338    -0.201657  0.180095   \n",
       "Softness     0.164526 -0.189908  -0.095338  1.000000     0.194734 -0.253804   \n",
       "HarvestTime  0.582014 -0.079465  -0.201657  0.194734     1.000000  0.107127   \n",
       "Ripeness     0.042587 -0.035276   0.180095 -0.253804     0.107127  1.000000   \n",
       "Acidity     -0.140673  0.443879   0.187059 -0.146014    -0.090903 -0.351531   \n",
       "\n",
       "              Acidity  \n",
       "Size        -0.140673  \n",
       "Weight       0.443879  \n",
       "Sweetness    0.187059  \n",
       "Softness    -0.146014  \n",
       "HarvestTime -0.090903  \n",
       "Ripeness    -0.351531  \n",
       "Acidity      1.000000  "
      ]
     },
     "execution_count": 17,
     "metadata": {},
     "output_type": "execute_result"
    }
   ],
   "source": [
    " df.corr()"
   ]
  },
  {
   "cell_type": "code",
   "execution_count": 18,
   "id": "d28c6922",
   "metadata": {},
   "outputs": [],
   "source": [
    "#there are too much corrolation of columns"
   ]
  },
  {
   "cell_type": "markdown",
   "id": "0e0f316a",
   "metadata": {},
   "source": [
    "# 2- Data Processing\n"
   ]
  },
  {
   "cell_type": "markdown",
   "id": "07c0a2b6",
   "metadata": {},
   "source": [
    "## A- Processing outliers"
   ]
  },
  {
   "cell_type": "code",
   "execution_count": 19,
   "id": "d370943d",
   "metadata": {},
   "outputs": [],
   "source": [
    "for s in df.select_dtypes(exclude='object').columns:\n",
    "    q1 = np.percentile(df[s], 25)\n",
    "    q3 = np.percentile(df[s], 75)    \n",
    "    IQR = q3-q1\n",
    "    lwr_bound = q1-(1.5*IQR)\n",
    "    upr_bound = q3+(1.5*IQR)\n",
    "    df[s]=np.where(df[s]> upr_bound, upr_bound ,np.where(df[s] < lwr_bound,lwr_bound,df[s]))\n",
    "\n",
    "        \n",
    "          "
   ]
  },
  {
   "cell_type": "code",
   "execution_count": 20,
   "id": "5c4f50a0",
   "metadata": {},
   "outputs": [
    {
     "data": {
      "text/plain": [
       "<AxesSubplot:>"
      ]
     },
     "execution_count": 20,
     "metadata": {},
     "output_type": "execute_result"
    },
    {
     "data": {
      "image/png": "[encoded data removed]",
      "text/plain": [
       "<Figure size 1080x720 with 1 Axes>"
      ]
     },
     "metadata": {
      "needs_background": "light"
     },
     "output_type": "display_data"
    }
   ],
   "source": [
    "plt.figure(figsize=(15,10))\n",
    "sns.boxplot(data=df)"
   ]
  },
  {
   "cell_type": "code",
   "execution_count": 21,
   "id": "72e9c1c2",
   "metadata": {},
   "outputs": [
    {
     "name": "stdout",
     "output_type": "stream",
     "text": [
      "1- Size column has 0 outliers\n",
      "2- Weight column has 0 outliers\n",
      "3- Sweetness column has 0 outliers\n",
      "4- Softness column has 0 outliers\n",
      "5- HarvestTime column has 0 outliers\n",
      "6- Ripeness column has 0 outliers\n",
      "7- Acidity column has 0 outliers\n"
     ]
    }
   ],
   "source": [
    "outliers= []\n",
    "    \n",
    "    \n",
    "  \n",
    "count_2=0 \n",
    "count_3=0\n",
    "count_4=0\n",
    "     \n",
    "for j in df.select_dtypes(exclude='object').columns:\n",
    "    q1 = np.percentile(df[j], 25)\n",
    "    q3 = np.percentile(df[j], 75)    \n",
    "    IQR = q3-q1\n",
    "    lwr_bound = q1-(1.5*IQR)\n",
    "    upr_bound = q3+(1.5*IQR)\n",
    "    for m in df[j]:\n",
    "        \n",
    "          if ((m<lwr_bound)|(m>upr_bound)):\n",
    "                outliers.append(m)\n",
    "    if outliers== [] :\n",
    "                       count_2+=1 \n",
    "                       print( f\"{count_2}- {j} column has {len(outliers)} outliers\")\n",
    "                       count_3+=1\n",
    "                       \n",
    "                       \n",
    "        \n",
    "        \n",
    "    else:\n",
    "        \n",
    "         count_2+=1                       \n",
    "           \n",
    "         print(f\"{count_2}- {j} column has {len(outliers)} outliers\")\n",
    "         outliers.clear()  \n",
    "         count_4+=1\n",
    "                             \n",
    "            \n",
    "         \n",
    " \n",
    "    "
   ]
  },
  {
   "cell_type": "code",
   "execution_count": null,
   "id": "9aa984a8",
   "metadata": {},
   "outputs": [],
   "source": []
  },
  {
   "cell_type": "markdown",
   "id": "e2a13400",
   "metadata": {},
   "source": [
    "# Feature Engineering"
   ]
  },
  {
   "cell_type": "markdown",
   "id": "4c4e36f9",
   "metadata": {},
   "source": [
    "## A - Encoding"
   ]
  },
  {
   "cell_type": "code",
   "execution_count": 22,
   "id": "a0f3b1d7",
   "metadata": {},
   "outputs": [],
   "source": [
    "from sklearn.preprocessing import LabelEncoder\n",
    "le = LabelEncoder()\n",
    "df[\"Quality\"] = le.fit_transform(df[\"Quality\"])"
   ]
  },
  {
   "cell_type": "markdown",
   "id": "1ab9dac8",
   "metadata": {},
   "source": [
    "## B - Imbalanced Data"
   ]
  },
  {
   "cell_type": "code",
   "execution_count": 23,
   "id": "e3deb62c",
   "metadata": {},
   "outputs": [
    {
     "data": {
      "text/plain": [
       "1    0.50075\n",
       "0    0.49925\n",
       "Name: Quality, dtype: float64"
      ]
     },
     "execution_count": 23,
     "metadata": {},
     "output_type": "execute_result"
    }
   ],
   "source": [
    "df['Quality'].value_counts(normalize=True)"
   ]
  },
  {
   "cell_type": "code",
   "execution_count": 24,
   "id": "78297f85",
   "metadata": {},
   "outputs": [],
   "source": [
    "# the quality feature is balanced"
   ]
  },
  {
   "cell_type": "code",
   "execution_count": 25,
   "id": "d2bb2df7",
   "metadata": {},
   "outputs": [
    {
     "data": {
      "text/plain": [
       "0       1\n",
       "1       1\n",
       "2       1\n",
       "3       1\n",
       "4       1\n",
       "       ..\n",
       "7995    0\n",
       "7996    0\n",
       "7997    0\n",
       "7998    0\n",
       "7999    0\n",
       "Name: Quality, Length: 8000, dtype: int32"
      ]
     },
     "execution_count": 25,
     "metadata": {},
     "output_type": "execute_result"
    }
   ],
   "source": [
    "df['Quality']"
   ]
  },
  {
   "cell_type": "markdown",
   "id": "42e031d3",
   "metadata": {},
   "source": [
    "# Build Model"
   ]
  },
  {
   "cell_type": "code",
   "execution_count": 43,
   "id": "3d0fdf8c",
   "metadata": {},
   "outputs": [],
   "source": [
    "import sklearn\n",
    "from sklearn.preprocessing import StandardScaler\n",
    "from sklearn import metrics , datasets , linear_model\n",
    "from sklearn import svm\n",
    "from sklearn.model_selection import train_test_split\n",
    "from sklearn.linear_model import LinearRegression\n",
    "from sklearn.linear_model import LogisticRegression\n",
    "from sklearn.metrics import accuracy_score\n",
    "from sklearn.metrics import roc_auc_score\n",
    "from sklearn.metrics import f1_score\n",
    "from sklearn.metrics import confusion_matrix\n",
    "from sklearn.metrics import recall_score\n",
    "from sklearn.metrics import classification_report\n",
    "from sklearn.metrics import precision_score\n",
    "from sklearn.tree import DecisionTreeClassifier\n",
    "\n",
    "\n"
   ]
  },
  {
   "cell_type": "markdown",
   "id": "fba61dd1",
   "metadata": {},
   "source": [
    "### split data"
   ]
  },
  {
   "cell_type": "code",
   "execution_count": 44,
   "id": "4a1f8a2f",
   "metadata": {},
   "outputs": [],
   "source": [
    "x=df.drop(columns=['Quality'])"
   ]
  },
  {
   "cell_type": "code",
   "execution_count": 45,
   "id": "30a52582",
   "metadata": {},
   "outputs": [],
   "source": [
    "y=df['Quality']"
   ]
  },
  {
   "cell_type": "code",
   "execution_count": 46,
   "id": "4ddf5aa0",
   "metadata": {},
   "outputs": [],
   "source": [
    " x_train,x_test, y_train,y_test= train_test_split(x,y,test_size=0.3,random_state=0)"
   ]
  },
  {
   "cell_type": "markdown",
   "id": "8df0c1b5",
   "metadata": {},
   "source": [
    "### data scaling"
   ]
  },
  {
   "cell_type": "code",
   "execution_count": 54,
   "id": "fa1d0954",
   "metadata": {},
   "outputs": [],
   "source": [
    "scaler= StandardScaler()\n",
    "X_train=scaler.fit_transform(x_train)\n",
    "X_test=scaler.transform(x_test)\n"
   ]
  },
  {
   "cell_type": "markdown",
   "id": "0ac1b961",
   "metadata": {},
   "source": [
    "##  KNN Model"
   ]
  },
  {
   "cell_type": "code",
   "execution_count": 55,
   "id": "5bebf4b7",
   "metadata": {},
   "outputs": [],
   "source": [
    "from sklearn.neighbors import KNeighborsClassifier"
   ]
  },
  {
   "cell_type": "code",
   "execution_count": 56,
   "id": "2d9ef7f7",
   "metadata": {},
   "outputs": [],
   "source": [
    "knn=KNeighborsClassifier(n_neighbors=1)"
   ]
  },
  {
   "cell_type": "code",
   "execution_count": 57,
   "id": "f2325cdf",
   "metadata": {},
   "outputs": [
    {
     "data": {
      "text/html": [
       "<style>#sk-container-id-3 {\n",
       "  /* Definition of color scheme common for light and dark mode */\n",
       "  --sklearn-color-text: black;\n",
       "  --sklearn-color-line: gray;\n",
       "  /* Definition of color scheme for unfitted estimators */\n",
       "  --sklearn-color-unfitted-level-0: #fff5e6;\n",
       "  --sklearn-color-unfitted-level-1: #f6e4d2;\n",
       "  --sklearn-color-unfitted-level-2: #ffe0b3;\n",
       "  --sklearn-color-unfitted-level-3: chocolate;\n",
       "  /* Definition of color scheme for fitted estimators */\n",
       "  --sklearn-color-fitted-level-0: #f0f8ff;\n",
       "  --sklearn-color-fitted-level-1: #d4ebff;\n",
       "  --sklearn-color-fitted-level-2: #b3dbfd;\n",
       "  --sklearn-color-fitted-level-3: cornflowerblue;\n",
       "\n",
       "  /* Specific color for light theme */\n",
       "  --sklearn-color-text-on-default-background: var(--sg-text-color, var(--theme-code-foreground, var(--jp-content-font-color1, black)));\n",
       "  --sklearn-color-background: var(--sg-background-color, var(--theme-background, var(--jp-layout-color0, white)));\n",
       "  --sklearn-color-border-box: var(--sg-text-color, var(--theme-code-foreground, var(--jp-content-font-color1, black)));\n",
       "  --sklearn-color-icon: #696969;\n",
       "\n",
       "  @media (prefers-color-scheme: dark) {\n",
       "    /* Redefinition of color scheme for dark theme */\n",
       "    --sklearn-color-text-on-default-background: var(--sg-text-color, var(--theme-code-foreground, var(--jp-content-font-color1, white)));\n",
       "    --sklearn-color-background: var(--sg-background-color, var(--theme-background, var(--jp-layout-color0, #111)));\n",
       "    --sklearn-color-border-box: var(--sg-text-color, var(--theme-code-foreground, var(--jp-content-font-color1, white)));\n",
       "    --sklearn-color-icon: #878787;\n",
       "  }\n",
       "}\n",
       "\n",
       "#sk-container-id-3 {\n",
       "  color: var(--sklearn-color-text);\n",
       "}\n",
       "\n",
       "#sk-container-id-3 pre {\n",
       "  padding: 0;\n",
       "}\n",
       "\n",
       "#sk-container-id-3 input.sk-hidden--visually {\n",
       "  border: 0;\n",
       "  clip: rect(1px 1px 1px 1px);\n",
       "  clip: rect(1px, 1px, 1px, 1px);\n",
       "  height: 1px;\n",
       "  margin: -1px;\n",
       "  overflow: hidden;\n",
       "  padding: 0;\n",
       "  position: absolute;\n",
       "  width: 1px;\n",
       "}\n",
       "\n",
       "#sk-container-id-3 div.sk-dashed-wrapped {\n",
       "  border: 1px dashed var(--sklearn-color-line);\n",
       "  margin: 0 0.4em 0.5em 0.4em;\n",
       "  box-sizing: border-box;\n",
       "  padding-bottom: 0.4em;\n",
       "  background-color: var(--sklearn-color-background);\n",
       "}\n",
       "\n",
       "#sk-container-id-3 div.sk-container {\n",
       "  /* jupyter's `normalize.less` sets `[hidden] { display: none; }`\n",
       "     but bootstrap.min.css set `[hidden] { display: none !important; }`\n",
       "     so we also need the `!important` here to be able to override the\n",
       "     default hidden behavior on the sphinx rendered scikit-learn.org.\n",
       "     See: https://github.com/scikit-learn/scikit-learn/issues/21755 */\n",
       "  display: inline-block !important;\n",
       "  position: relative;\n",
       "}\n",
       "\n",
       "#sk-container-id-3 div.sk-text-repr-fallback {\n",
       "  display: none;\n",
       "}\n",
       "\n",
       "div.sk-parallel-item,\n",
       "div.sk-serial,\n",
       "div.sk-item {\n",
       "  /* draw centered vertical line to link estimators */\n",
       "  background-image: linear-gradient(var(--sklearn-color-text-on-default-background), var(--sklearn-color-text-on-default-background));\n",
       "  background-size: 2px 100%;\n",
       "  background-repeat: no-repeat;\n",
       "  background-position: center center;\n",
       "}\n",
       "\n",
       "/* Parallel-specific style estimator block */\n",
       "\n",
       "#sk-container-id-3 div.sk-parallel-item::after {\n",
       "  content: \"\";\n",
       "  width: 100%;\n",
       "  border-bottom: 2px solid var(--sklearn-color-text-on-default-background);\n",
       "  flex-grow: 1;\n",
       "}\n",
       "\n",
       "#sk-container-id-3 div.sk-parallel {\n",
       "  display: flex;\n",
       "  align-items: stretch;\n",
       "  justify-content: center;\n",
       "  background-color: var(--sklearn-color-background);\n",
       "  position: relative;\n",
       "}\n",
       "\n",
       "#sk-container-id-3 div.sk-parallel-item {\n",
       "  display: flex;\n",
       "  flex-direction: column;\n",
       "}\n",
       "\n",
       "#sk-container-id-3 div.sk-parallel-item:first-child::after {\n",
       "  align-self: flex-end;\n",
       "  width: 50%;\n",
       "}\n",
       "\n",
       "#sk-container-id-3 div.sk-parallel-item:last-child::after {\n",
       "  align-self: flex-start;\n",
       "  width: 50%;\n",
       "}\n",
       "\n",
       "#sk-container-id-3 div.sk-parallel-item:only-child::after {\n",
       "  width: 0;\n",
       "}\n",
       "\n",
       "/* Serial-specific style estimator block */\n",
       "\n",
       "#sk-container-id-3 div.sk-serial {\n",
       "  display: flex;\n",
       "  flex-direction: column;\n",
       "  align-items: center;\n",
       "  background-color: var(--sklearn-color-background);\n",
       "  padding-right: 1em;\n",
       "  padding-left: 1em;\n",
       "}\n",
       "\n",
       "\n",
       "/* Toggleable style: style used for estimator/Pipeline/ColumnTransformer box that is\n",
       "clickable and can be expanded/collapsed.\n",
       "- Pipeline and ColumnTransformer use this feature and define the default style\n",
       "- Estimators will overwrite some part of the style using the `sk-estimator` class\n",
       "*/\n",
       "\n",
       "/* Pipeline and ColumnTransformer style (default) */\n",
       "\n",
       "#sk-container-id-3 div.sk-toggleable {\n",
       "  /* Default theme specific background. It is overwritten whether we have a\n",
       "  specific estimator or a Pipeline/ColumnTransformer */\n",
       "  background-color: var(--sklearn-color-background);\n",
       "}\n",
       "\n",
       "/* Toggleable label */\n",
       "#sk-container-id-3 label.sk-toggleable__label {\n",
       "  cursor: pointer;\n",
       "  display: block;\n",
       "  width: 100%;\n",
       "  margin-bottom: 0;\n",
       "  padding: 0.5em;\n",
       "  box-sizing: border-box;\n",
       "  text-align: center;\n",
       "}\n",
       "\n",
       "#sk-container-id-3 label.sk-toggleable__label-arrow:before {\n",
       "  /* Arrow on the left of the label */\n",
       "  content: \"▸\";\n",
       "  float: left;\n",
       "  margin-right: 0.25em;\n",
       "  color: var(--sklearn-color-icon);\n",
       "}\n",
       "\n",
       "#sk-container-id-3 label.sk-toggleable__label-arrow:hover:before {\n",
       "  color: var(--sklearn-color-text);\n",
       "}\n",
       "\n",
       "/* Toggleable content - dropdown */\n",
       "\n",
       "#sk-container-id-3 div.sk-toggleable__content {\n",
       "  max-height: 0;\n",
       "  max-width: 0;\n",
       "  overflow: hidden;\n",
       "  text-align: left;\n",
       "  /* unfitted */\n",
       "  background-color: var(--sklearn-color-unfitted-level-0);\n",
       "}\n",
       "\n",
       "#sk-container-id-3 div.sk-toggleable__content.fitted {\n",
       "  /* fitted */\n",
       "  background-color: var(--sklearn-color-fitted-level-0);\n",
       "}\n",
       "\n",
       "#sk-container-id-3 div.sk-toggleable__content pre {\n",
       "  margin: 0.2em;\n",
       "  border-radius: 0.25em;\n",
       "  color: var(--sklearn-color-text);\n",
       "  /* unfitted */\n",
       "  background-color: var(--sklearn-color-unfitted-level-0);\n",
       "}\n",
       "\n",
       "#sk-container-id-3 div.sk-toggleable__content.fitted pre {\n",
       "  /* unfitted */\n",
       "  background-color: var(--sklearn-color-fitted-level-0);\n",
       "}\n",
       "\n",
       "#sk-container-id-3 input.sk-toggleable__control:checked~div.sk-toggleable__content {\n",
       "  /* Expand drop-down */\n",
       "  max-height: 200px;\n",
       "  max-width: 100%;\n",
       "  overflow: auto;\n",
       "}\n",
       "\n",
       "#sk-container-id-3 input.sk-toggleable__control:checked~label.sk-toggleable__label-arrow:before {\n",
       "  content: \"▾\";\n",
       "}\n",
       "\n",
       "/* Pipeline/ColumnTransformer-specific style */\n",
       "\n",
       "#sk-container-id-3 div.sk-label input.sk-toggleable__control:checked~label.sk-toggleable__label {\n",
       "  color: var(--sklearn-color-text);\n",
       "  background-color: var(--sklearn-color-unfitted-level-2);\n",
       "}\n",
       "\n",
       "#sk-container-id-3 div.sk-label.fitted input.sk-toggleable__control:checked~label.sk-toggleable__label {\n",
       "  background-color: var(--sklearn-color-fitted-level-2);\n",
       "}\n",
       "\n",
       "/* Estimator-specific style */\n",
       "\n",
       "/* Colorize estimator box */\n",
       "#sk-container-id-3 div.sk-estimator input.sk-toggleable__control:checked~label.sk-toggleable__label {\n",
       "  /* unfitted */\n",
       "  background-color: var(--sklearn-color-unfitted-level-2);\n",
       "}\n",
       "\n",
       "#sk-container-id-3 div.sk-estimator.fitted input.sk-toggleable__control:checked~label.sk-toggleable__label {\n",
       "  /* fitted */\n",
       "  background-color: var(--sklearn-color-fitted-level-2);\n",
       "}\n",
       "\n",
       "#sk-container-id-3 div.sk-label label.sk-toggleable__label,\n",
       "#sk-container-id-3 div.sk-label label {\n",
       "  /* The background is the default theme color */\n",
       "  color: var(--sklearn-color-text-on-default-background);\n",
       "}\n",
       "\n",
       "/* On hover, darken the color of the background */\n",
       "#sk-container-id-3 div.sk-label:hover label.sk-toggleable__label {\n",
       "  color: var(--sklearn-color-text);\n",
       "  background-color: var(--sklearn-color-unfitted-level-2);\n",
       "}\n",
       "\n",
       "/* Label box, darken color on hover, fitted */\n",
       "#sk-container-id-3 div.sk-label.fitted:hover label.sk-toggleable__label.fitted {\n",
       "  color: var(--sklearn-color-text);\n",
       "  background-color: var(--sklearn-color-fitted-level-2);\n",
       "}\n",
       "\n",
       "/* Estimator label */\n",
       "\n",
       "#sk-container-id-3 div.sk-label label {\n",
       "  font-family: monospace;\n",
       "  font-weight: bold;\n",
       "  display: inline-block;\n",
       "  line-height: 1.2em;\n",
       "}\n",
       "\n",
       "#sk-container-id-3 div.sk-label-container {\n",
       "  text-align: center;\n",
       "}\n",
       "\n",
       "/* Estimator-specific */\n",
       "#sk-container-id-3 div.sk-estimator {\n",
       "  font-family: monospace;\n",
       "  border: 1px dotted var(--sklearn-color-border-box);\n",
       "  border-radius: 0.25em;\n",
       "  box-sizing: border-box;\n",
       "  margin-bottom: 0.5em;\n",
       "  /* unfitted */\n",
       "  background-color: var(--sklearn-color-unfitted-level-0);\n",
       "}\n",
       "\n",
       "#sk-container-id-3 div.sk-estimator.fitted {\n",
       "  /* fitted */\n",
       "  background-color: var(--sklearn-color-fitted-level-0);\n",
       "}\n",
       "\n",
       "/* on hover */\n",
       "#sk-container-id-3 div.sk-estimator:hover {\n",
       "  /* unfitted */\n",
       "  background-color: var(--sklearn-color-unfitted-level-2);\n",
       "}\n",
       "\n",
       "#sk-container-id-3 div.sk-estimator.fitted:hover {\n",
       "  /* fitted */\n",
       "  background-color: var(--sklearn-color-fitted-level-2);\n",
       "}\n",
       "\n",
       "/* Specification for estimator info (e.g. \"i\" and \"?\") */\n",
       "\n",
       "/* Common style for \"i\" and \"?\" */\n",
       "\n",
       ".sk-estimator-doc-link,\n",
       "a:link.sk-estimator-doc-link,\n",
       "a:visited.sk-estimator-doc-link {\n",
       "  float: right;\n",
       "  font-size: smaller;\n",
       "  line-height: 1em;\n",
       "  font-family: monospace;\n",
       "  background-color: var(--sklearn-color-background);\n",
       "  border-radius: 1em;\n",
       "  height: 1em;\n",
       "  width: 1em;\n",
       "  text-decoration: none !important;\n",
       "  margin-left: 1ex;\n",
       "  /* unfitted */\n",
       "  border: var(--sklearn-color-unfitted-level-1) 1pt solid;\n",
       "  color: var(--sklearn-color-unfitted-level-1);\n",
       "}\n",
       "\n",
       ".sk-estimator-doc-link.fitted,\n",
       "a:link.sk-estimator-doc-link.fitted,\n",
       "a:visited.sk-estimator-doc-link.fitted {\n",
       "  /* fitted */\n",
       "  border: var(--sklearn-color-fitted-level-1) 1pt solid;\n",
       "  color: var(--sklearn-color-fitted-level-1);\n",
       "}\n",
       "\n",
       "/* On hover */\n",
       "div.sk-estimator:hover .sk-estimator-doc-link:hover,\n",
       ".sk-estimator-doc-link:hover,\n",
       "div.sk-label-container:hover .sk-estimator-doc-link:hover,\n",
       ".sk-estimator-doc-link:hover {\n",
       "  /* unfitted */\n",
       "  background-color: var(--sklearn-color-unfitted-level-3);\n",
       "  color: var(--sklearn-color-background);\n",
       "  text-decoration: none;\n",
       "}\n",
       "\n",
       "div.sk-estimator.fitted:hover .sk-estimator-doc-link.fitted:hover,\n",
       ".sk-estimator-doc-link.fitted:hover,\n",
       "div.sk-label-container:hover .sk-estimator-doc-link.fitted:hover,\n",
       ".sk-estimator-doc-link.fitted:hover {\n",
       "  /* fitted */\n",
       "  background-color: var(--sklearn-color-fitted-level-3);\n",
       "  color: var(--sklearn-color-background);\n",
       "  text-decoration: none;\n",
       "}\n",
       "\n",
       "/* Span, style for the box shown on hovering the info icon */\n",
       ".sk-estimator-doc-link span {\n",
       "  display: none;\n",
       "  z-index: 9999;\n",
       "  position: relative;\n",
       "  font-weight: normal;\n",
       "  right: .2ex;\n",
       "  padding: .5ex;\n",
       "  margin: .5ex;\n",
       "  width: min-content;\n",
       "  min-width: 20ex;\n",
       "  max-width: 50ex;\n",
       "  color: var(--sklearn-color-text);\n",
       "  box-shadow: 2pt 2pt 4pt #999;\n",
       "  /* unfitted */\n",
       "  background: var(--sklearn-color-unfitted-level-0);\n",
       "  border: .5pt solid var(--sklearn-color-unfitted-level-3);\n",
       "}\n",
       "\n",
       ".sk-estimator-doc-link.fitted span {\n",
       "  /* fitted */\n",
       "  background: var(--sklearn-color-fitted-level-0);\n",
       "  border: var(--sklearn-color-fitted-level-3);\n",
       "}\n",
       "\n",
       ".sk-estimator-doc-link:hover span {\n",
       "  display: block;\n",
       "}\n",
       "\n",
       "/* \"?\"-specific style due to the `<a>` HTML tag */\n",
       "\n",
       "#sk-container-id-3 a.estimator_doc_link {\n",
       "  float: right;\n",
       "  font-size: 1rem;\n",
       "  line-height: 1em;\n",
       "  font-family: monospace;\n",
       "  background-color: var(--sklearn-color-background);\n",
       "  border-radius: 1rem;\n",
       "  height: 1rem;\n",
       "  width: 1rem;\n",
       "  text-decoration: none;\n",
       "  /* unfitted */\n",
       "  color: var(--sklearn-color-unfitted-level-1);\n",
       "  border: var(--sklearn-color-unfitted-level-1) 1pt solid;\n",
       "}\n",
       "\n",
       "#sk-container-id-3 a.estimator_doc_link.fitted {\n",
       "  /* fitted */\n",
       "  border: var(--sklearn-color-fitted-level-1) 1pt solid;\n",
       "  color: var(--sklearn-color-fitted-level-1);\n",
       "}\n",
       "\n",
       "/* On hover */\n",
       "#sk-container-id-3 a.estimator_doc_link:hover {\n",
       "  /* unfitted */\n",
       "  background-color: var(--sklearn-color-unfitted-level-3);\n",
       "  color: var(--sklearn-color-background);\n",
       "  text-decoration: none;\n",
       "}\n",
       "\n",
       "#sk-container-id-3 a.estimator_doc_link.fitted:hover {\n",
       "  /* fitted */\n",
       "  background-color: var(--sklearn-color-fitted-level-3);\n",
       "}\n",
       "</style><div id=\"sk-container-id-3\" class=\"sk-top-container\"><div class=\"sk-text-repr-fallback\"><pre>KNeighborsClassifier(n_neighbors=1)</pre><b>In a Jupyter environment, please rerun this cell to show the HTML representation or trust the notebook. <br />On GitHub, the HTML representation is unable to render, please try loading this page with nbviewer.org.</b></div><div class=\"sk-container\" hidden><div class=\"sk-item\"><div class=\"sk-estimator fitted sk-toggleable\"><input class=\"sk-toggleable__control sk-hidden--visually\" id=\"sk-estimator-id-3\" type=\"checkbox\" checked><label for=\"sk-estimator-id-3\" class=\"sk-toggleable__label fitted sk-toggleable__label-arrow fitted\">&nbsp;&nbsp;KNeighborsClassifier<a class=\"sk-estimator-doc-link fitted\" rel=\"noreferrer\" target=\"_blank\" href=\"https://scikit-learn.org/1.5/modules/generated/sklearn.neighbors.KNeighborsClassifier.html\">?<span>Documentation for KNeighborsClassifier</span></a><span class=\"sk-estimator-doc-link fitted\">i<span>Fitted</span></span></label><div class=\"sk-toggleable__content fitted\"><pre>KNeighborsClassifier(n_neighbors=1)</pre></div> </div></div></div></div>"
      ],
      "text/plain": [
       "KNeighborsClassifier(n_neighbors=1)"
      ]
     },
     "execution_count": 57,
     "metadata": {},
     "output_type": "execute_result"
    }
   ],
   "source": [
    "knn.fit(X_train,y_train)"
   ]
  },
  {
   "cell_type": "code",
   "execution_count": 58,
   "id": "a9602b6f",
   "metadata": {},
   "outputs": [],
   "source": [
    "y2_predict= knn.predict(X_test)"
   ]
  },
  {
   "cell_type": "markdown",
   "id": "2f453f15",
   "metadata": {},
   "source": [
    "## i- Checking if there over fitting"
   ]
  },
  {
   "cell_type": "code",
   "execution_count": 59,
   "id": "b91be205",
   "metadata": {},
   "outputs": [
    {
     "data": {
      "text/plain": [
       "1.0"
      ]
     },
     "execution_count": 59,
     "metadata": {},
     "output_type": "execute_result"
    }
   ],
   "source": [
    "knn.score(X_train,y_train)"
   ]
  },
  {
   "cell_type": "code",
   "execution_count": 60,
   "id": "97f5b52c",
   "metadata": {},
   "outputs": [
    {
     "data": {
      "text/plain": [
       "0.9683333333333334"
      ]
     },
     "execution_count": 60,
     "metadata": {},
     "output_type": "execute_result"
    }
   ],
   "source": [
    "knn.score(X_test,y_test)"
   ]
  },
  {
   "cell_type": "markdown",
   "id": "e1fd19fa",
   "metadata": {},
   "source": [
    "## ii- Metrics"
   ]
  },
  {
   "cell_type": "markdown",
   "id": "8bb31e86",
   "metadata": {},
   "source": [
    "### a - Accuracy Score"
   ]
  },
  {
   "cell_type": "code",
   "execution_count": 61,
   "id": "bb4b6ddb",
   "metadata": {},
   "outputs": [
    {
     "data": {
      "text/plain": [
       "0.9683333333333334"
      ]
     },
     "execution_count": 61,
     "metadata": {},
     "output_type": "execute_result"
    }
   ],
   "source": [
    "accuracy_score(y_test,y2_predict)"
   ]
  },
  {
   "cell_type": "markdown",
   "id": "801f3314",
   "metadata": {},
   "source": [
    "### b - Confusion Matrix"
   ]
  },
  {
   "cell_type": "code",
   "execution_count": 62,
   "id": "aeecb218",
   "metadata": {},
   "outputs": [
    {
     "data": {
      "text/plain": [
       "array([[1171,   40],\n",
       "       [  36, 1153]], dtype=int64)"
      ]
     },
     "execution_count": 62,
     "metadata": {},
     "output_type": "execute_result"
    }
   ],
   "source": [
    "confusion_matrix(y_test,y2_predict)"
   ]
  },
  {
   "cell_type": "markdown",
   "id": "f227235a",
   "metadata": {},
   "source": [
    "### c - Recall"
   ]
  },
  {
   "cell_type": "code",
   "execution_count": 63,
   "id": "aae2f35b",
   "metadata": {},
   "outputs": [
    {
     "data": {
      "text/plain": [
       "0.9697224558452481"
      ]
     },
     "execution_count": 63,
     "metadata": {},
     "output_type": "execute_result"
    }
   ],
   "source": [
    "recall_score(y_test,y2_predict)"
   ]
  },
  {
   "cell_type": "markdown",
   "id": "06d2c47d",
   "metadata": {},
   "source": [
    "### d - Precision Score"
   ]
  },
  {
   "cell_type": "code",
   "execution_count": 64,
   "id": "1ed33ed5",
   "metadata": {},
   "outputs": [
    {
     "data": {
      "text/plain": [
       "0.9664710813076278"
      ]
     },
     "execution_count": 64,
     "metadata": {},
     "output_type": "execute_result"
    }
   ],
   "source": [
    "precision_score(y_test,y2_predict)"
   ]
  },
  {
   "cell_type": "markdown",
   "id": "0f793401",
   "metadata": {},
   "source": [
    "### e - roc_auc_score"
   ]
  },
  {
   "cell_type": "code",
   "execution_count": 65,
   "id": "69a31137",
   "metadata": {},
   "outputs": [
    {
     "data": {
      "text/plain": [
       "0.9683459512917405"
      ]
     },
     "execution_count": 65,
     "metadata": {},
     "output_type": "execute_result"
    }
   ],
   "source": [
    "roc_auc_score(y_test,y2_predict)"
   ]
  },
  {
   "cell_type": "markdown",
   "id": "368edd37",
   "metadata": {},
   "source": [
    "### f - Classification Report"
   ]
  },
  {
   "cell_type": "code",
   "execution_count": 66,
   "id": "c5355d59",
   "metadata": {},
   "outputs": [
    {
     "data": {
      "text/plain": [
       "'              precision    recall  f1-score   support\\n\\n           0       0.97      0.97      0.97      1211\\n           1       0.97      0.97      0.97      1189\\n\\n    accuracy                           0.97      2400\\n   macro avg       0.97      0.97      0.97      2400\\nweighted avg       0.97      0.97      0.97      2400\\n'"
      ]
     },
     "execution_count": 66,
     "metadata": {},
     "output_type": "execute_result"
    }
   ],
   "source": [
    "classification_report(y_test,y2_predict)"
   ]
  },
  {
   "cell_type": "code",
   "execution_count": null,
   "id": "7c4d6c52",
   "metadata": {},
   "outputs": [],
   "source": []
  },
  {
   "cell_type": "code",
   "execution_count": null,
   "id": "c98a6745",
   "metadata": {},
   "outputs": [],
   "source": []
  }
 ],
 "metadata": {
  "kernelspec": {
   "display_name": "Python 3 (ipykernel)",
   "language": "python",
   "name": "python3"
  },
  "language_info": {
   "codemirror_mode": {
    "name": "ipython",
    "version": 3
   },
   "file_extension": ".py",
   "mimetype": "text/x-python",
   "name": "python",
   "nbconvert_exporter": "python",
   "pygments_lexer": "ipython3",
   "version": "3.9.7"
  }
 },
 "nbformat": 4,
 "nbformat_minor": 5
}
